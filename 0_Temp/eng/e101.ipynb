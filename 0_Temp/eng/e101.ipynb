{
 "cells": [
  {
   "cell_type": "code",
   "execution_count": 29,
   "metadata": {},
   "outputs": [
    {
     "name": "stdout",
     "output_type": "stream",
     "text": [
      "Hello python, Builtin Data type\n",
      "<class 'complex'>\n",
      "<class 'tuple'>\n",
      "<class 'list'> [(3+4j), (3+4j), 'Wow']\n",
      "<class 'array.array'> array('i', [1, 2, 3, 4, 5])\n",
      "<class 'set'> {'Wow', (3+4j)}\n",
      "<class 'tuple'> ('a', (3+4j), 'Wow', 4)\n",
      "<class 'tuple'> and <class 'int'>\n",
      "%s %s (<class 'dict'>, {'k1': (3+4j)})\n",
      "%s %s (<class 'dict'>, {'k2': 777, 'k3': 888})\n",
      "%s %s (<class 'dict'>, {'k3': 'aaa', 'f4': 'bbb'})\n"
     ]
    }
   ],
   "source": [
    "print(\"Hello python, Builtin Data type\")\n",
    "\n",
    "complex = 3 + 4j\n",
    "print(type(complex))\n",
    "\n",
    "tu = (complex, complex)\n",
    "print(type(tu))\n",
    "\n",
    "str = \"Wow\"\n",
    "lst = [complex, complex,str]\n",
    "print('%s %s' % (type(lst), lst))\n",
    "\n",
    "import array\n",
    "arry = array.array('i', [1, 2, 3, 4, 5])\n",
    "print('%s %s' % (type(arry), arry))\n",
    "\n",
    "s = set(lst)\n",
    "print('%s %s' % (type(s), s))\n",
    "\n",
    "tt = ('a', complex, str, 4)\n",
    "tt2 = (3,)\n",
    "tt2_not_tuple = (3)\n",
    "print('%s %s' % (type(tt), tt))\n",
    "print('%s and %s' % (type(tt2), type(tt2_not_tuple)))\n",
    "\n",
    "dt = dict()\n",
    "dt['k1'] = complex\n",
    "dt2 = {'k2':777, 'k3':888}\n",
    "dt3 = dict(k3='aaa', f4='bbb')\n",
    "print('%s %s', (type(dt), dt))\n",
    "print('%s %s', (type(dt2), dt2))\n",
    "print('%s %s', (type(dt3), dt3))"
   ]
  },
  {
   "cell_type": "markdown",
   "metadata": {},
   "source": [
    "### Data type\n",
    "- int, float,  commplex, boolean\n",
    "\n",
    "Ordered\n",
    "- string: immutable, ordered\n",
    "- bytes: immutable, ordered\n",
    "- bytearray: mutable, ordered\n",
    "- list: mutable, ordered\n",
    "- tuple: immutable, ordered\n",
    "\n",
    "Unordered\n",
    "- set: mutable, unordered\n",
    "- dict: mutable, unordered\n",
    "\n",
    "\n",
    "Mutable\n",
    "- bytearray: mutable, ordered\n",
    "- list: mutable, ordered\n",
    "- set: mutable, unordered\n",
    "- dict: mutable, unordered\n",
    "\n",
    "Immutable\n",
    "- string: immutable, ordered\n",
    "- bytes: immutable, ordered\n",
    "- tuple: immutable, ordered"
   ]
  }
 ],
 "metadata": {
  "kernelspec": {
   "display_name": "tf-base",
   "language": "python",
   "name": "python3"
  },
  "language_info": {
   "codemirror_mode": {
    "name": "ipython",
    "version": 3
   },
   "file_extension": ".py",
   "mimetype": "text/x-python",
   "name": "python",
   "nbconvert_exporter": "python",
   "pygments_lexer": "ipython3",
   "version": "3.10.10"
  },
  "orig_nbformat": 4
 },
 "nbformat": 4,
 "nbformat_minor": 2
}
