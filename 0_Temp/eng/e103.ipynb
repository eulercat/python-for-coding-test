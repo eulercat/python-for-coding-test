{
 "cells": [
  {
   "cell_type": "code",
   "execution_count": 2,
   "metadata": {},
   "outputs": [
    {
     "name": "stdout",
     "output_type": "stream",
     "text": [
      "140640869251440\n",
      "140640869251504\n"
     ]
    }
   ],
   "source": [
    "a = 3\n",
    "print(id(a))\n",
    "\n",
    "a = 5\n",
    "print(id(a))"
   ]
  },
  {
   "cell_type": "code",
   "execution_count": 2,
   "metadata": {},
   "outputs": [
    {
     "name": "stdout",
     "output_type": "stream",
     "text": [
      "[140669666113840, 140669666113872, 140669666113904, 140669666113936, 140669666113968]\n",
      "[140669666113840, 140669666113872, 140669666113904, 140669666113936, 140669666113968]\n",
      "[140669666113840, 140669666113872, 140669666113904, 140669666113936, 140669666113968]\n",
      "[140669666113904, 140669666113872, 140669666305488, 140669666113936, 140669666113968]\n",
      "[1, 2, 3, 4, 5]\n"
     ]
    }
   ],
   "source": [
    "a = [1, 2, 3, 4, 5]\n",
    "b = [1, 2, 3, 4, 5]\n",
    "\n",
    "print([id(k) for k in a])\n",
    "print([id(k) for k in b])\n",
    "b[0] = 3\n",
    "b[2] = 100\n",
    "print([id(k) for k in a])\n",
    "print([id(k) for k in b])\n",
    "print(a)\n"
   ]
  },
  {
   "cell_type": "code",
   "execution_count": 3,
   "metadata": {},
   "outputs": [
    {
     "name": "stdout",
     "output_type": "stream",
     "text": [
      "[1, 2, [100, 4]]\n",
      "[1, 2, [100, 4]]\n"
     ]
    }
   ],
   "source": [
    "aa = [1, 2, [3, 4]]\n",
    "from copy import copy\n",
    "bb = copy(aa)\n",
    "bb[0] = 50\n",
    "bb[2][0] = 100\n",
    "print(aa)\n",
    "\n",
    "from copy import deepcopy\n",
    "cc = deepcopy(aa)\n",
    "cc[2][0] = 200\n",
    "print(aa)"
   ]
  },
  {
   "cell_type": "code",
   "execution_count": 41,
   "metadata": {},
   "outputs": [
    {
     "name": "stdout",
     "output_type": "stream",
     "text": [
      "4\n",
      "(32-3j)\n",
      "(9, 1)\n",
      "16 = 16\n",
      "2\n",
      "4\n",
      "2.0\n",
      "4.0\n",
      "2\n",
      "4\n",
      "3.5\n",
      "3.4\n"
     ]
    }
   ],
   "source": [
    "a = -4\n",
    "print(-a)\n",
    "c = 32+3j\n",
    "print(c.conjugate())\n",
    "print(divmod(28, 3))\n",
    "print(\"%d = %d\" % (pow(2, 4), 2**4))\n",
    "\n",
    "\n",
    "# Round policy \"round half to even (round-to-nearest-even)\"\n",
    "f2 = 2.5\n",
    "print(round(f2))\n",
    "f2 = 3.5\n",
    "print(round(f2))\n",
    "\n",
    "# By spcifying the number of decimal places, the round policy can be changed\n",
    "f2 = 2.5\n",
    "print(round(f2, 0))\n",
    "f2 = 3.5\n",
    "print(round(f2, 0))\n",
    "\n",
    "\n",
    "\n",
    "f2 = 2.5\n",
    "print(round(f2))\n",
    "f2 = 3.5\n",
    "print(round(f2))\n",
    "\n",
    "f = 3.45\n",
    "print(round(f, 1))\n",
    "f = 3.35\n",
    "print(round(f, 1))\n"
   ]
  },
  {
   "cell_type": "code",
   "execution_count": 54,
   "metadata": {},
   "outputs": [
    {
     "name": "stdout",
     "output_type": "stream",
     "text": [
      "3\n"
     ]
    }
   ],
   "source": [
    "import decimal\n",
    "\n",
    "# Create Decimal object\n",
    "num = decimal.Decimal('2.5')\n",
    "\n",
    "# Set the desired context\n",
    "context = decimal.Context(prec=1, rounding=decimal.ROUND_HALF_UP)\n",
    "\n",
    "# Round using quantize() method with the context\n",
    "rounded = num.quantize(decimal.Decimal('0'), context=context)\n",
    "\n",
    "print(rounded)\n"
   ]
  }
 ],
 "metadata": {
  "kernelspec": {
   "display_name": "tf-base",
   "language": "python",
   "name": "python3"
  },
  "language_info": {
   "codemirror_mode": {
    "name": "ipython",
    "version": 3
   },
   "file_extension": ".py",
   "mimetype": "text/x-python",
   "name": "python",
   "nbconvert_exporter": "python",
   "pygments_lexer": "ipython3",
   "version": "3.9.13"
  },
  "orig_nbformat": 4
 },
 "nbformat": 4,
 "nbformat_minor": 2
}
