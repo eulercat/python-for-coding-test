{
 "cells": [
  {
   "cell_type": "code",
   "execution_count": null,
   "metadata": {},
   "outputs": [],
   "source": [
    "import matplotlib.pyplot as plt\n",
    "import numpy as np\n",
    "\n",
    "x = np.linspace(0,1,50)\n",
    "y1 = np.cos(4*np.pi*x)\n",
    "y2 = np.cos(4*np.pi*x)*np.exp(-2*x)\n",
    "\n",
    "fig = plt.figure()   # 직접 Figure 객체를 생성\n",
    "ax = fig.subplots()   # 직접 axes를 생성\n",
    "ax.plot(x,y1,'r-*',lw=1)    # 생성된 axes에 대한 plot() 멤버 직접 호출\n",
    "ax.plot(x,y2,'b--',lw=1)"
   ]
  }
 ],
 "metadata": {
  "kernelspec": {
   "display_name": "tf-base",
   "language": "python",
   "name": "python3"
  },
  "language_info": {
   "name": "python",
   "version": "3.10.11"
  },
  "orig_nbformat": 4
 },
 "nbformat": 4,
 "nbformat_minor": 2
}
